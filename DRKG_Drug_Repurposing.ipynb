{
 "cells": [
  {
   "cell_type": "markdown",
   "metadata": {},
   "source": [
    "# Drug Repurposing using PAM Case-Study"
   ]
  },
  {
   "cell_type": "markdown",
   "metadata": {},
   "source": [
    "In this notebook we will showcase the efficiency of PAM on Drug repurposing.\n",
    "\n",
    "We will follow the procedure as in [DRKG - COVID-19 Drug Repurpose](https://github.com/gnn4dr/DRKG/blob/master/drug_repurpose/COVID-19_drug_repurposing.ipynb).\n",
    "\n",
    "\n",
    "The process is simple:\n",
    "1. First download the [DRKG](https://github.com/gnn4dr/DRKG/) dataset and the related files from the drug-repurpose use-case. The .tsv with the triples is expected to be in folder in the same directory as this notebook with the name \"data\".\n",
    "2. Create the **lossless** $1$-hop PAM for the KG $P$.\n",
    "3. Create a low-rank approximation of the PAM adjacency matrix $\\tilde{P} = U * S * V$ of rank $k=200$.\n",
    "4. In the approxmated matrix $\\tilde{P}$, rank all the possible drug-diseases combinations, from highest to lowest.\n",
    "5. Calculate the Hits@100 of our methodology and compare them with the ones from the original work.\n",
    "\n",
    "\n",
    "\n",
    "\n"
   ]
  },
  {
   "cell_type": "markdown",
   "metadata": {},
   "source": [
    "## Initial Imports"
   ]
  },
  {
   "cell_type": "code",
   "execution_count": 1,
   "metadata": {},
   "outputs": [],
   "source": [
    "%load_ext autoreload\n",
    "%autoreload 2\n",
    "\n",
    "import scipy\n",
    "import csv\n",
    "import numpy as np\n",
    "import pandas as pd\n",
    "\n",
    "\n",
    "from pam_creation import create_pam_matrices\n",
    "from scipy.sparse import csr_matrix\n",
    "from scipy.sparse.linalg import svds"
   ]
  },
  {
   "cell_type": "markdown",
   "metadata": {},
   "source": [
    "## Load the original KG"
   ]
  },
  {
   "cell_type": "code",
   "execution_count": 2,
   "metadata": {},
   "outputs": [],
   "source": [
    "path = \"./data/DRKG/train.tsv\"\n",
    "df_train = pd.read_csv(path, sep=\"\\t\")\n",
    "df_train.dropna(inplace=True)\n",
    "df_train.columns = [\"head\", \"rel\", \"tail\"]"
   ]
  },
  {
   "cell_type": "markdown",
   "metadata": {},
   "source": [
    "## Create the PAM matrix"
   ]
  },
  {
   "cell_type": "code",
   "execution_count": 3,
   "metadata": {},
   "outputs": [
    {
     "name": "stdout",
     "output_type": "stream",
     "text": [
      "# of unique rels: 107 \t | # of unique nodes: 97238\n",
      "(97238, 97238) Sparsity: 99.95 %\n"
     ]
    }
   ],
   "source": [
    "# we only want the 1-hop matrix\n",
    "max_order = 1\n",
    "\n",
    "power_A_directed, node2id, rel2id = create_pam_matrices(df_train, max_order=max_order, spacing_strategy='step_10', use_log=True)\n",
    "\n",
    "# create a dictionary tha maps the index of nodes to their names\n",
    "id2node = dict(zip(list(node2id.values()), list(node2id.keys())))"
   ]
  },
  {
   "cell_type": "markdown",
   "metadata": {},
   "source": [
    "## Load: \n",
    "\n",
    "- the representative nodes of the COVID disease.\n",
    "- the candidate drugs"
   ]
  },
  {
   "cell_type": "code",
   "execution_count": 4,
   "metadata": {},
   "outputs": [],
   "source": [
    "COV_disease_list = [\n",
    "'Disease::SARS-CoV2 E',\n",
    "'Disease::SARS-CoV2 M',\n",
    "'Disease::SARS-CoV2 N',\n",
    "'Disease::SARS-CoV2 Spike',\n",
    "'Disease::SARS-CoV2 nsp1',\n",
    "'Disease::SARS-CoV2 nsp10',\n",
    "'Disease::SARS-CoV2 nsp11',\n",
    "'Disease::SARS-CoV2 nsp12',\n",
    "'Disease::SARS-CoV2 nsp13',\n",
    "'Disease::SARS-CoV2 nsp14',\n",
    "'Disease::SARS-CoV2 nsp15',\n",
    "'Disease::SARS-CoV2 nsp2',\n",
    "'Disease::SARS-CoV2 nsp4',\n",
    "'Disease::SARS-CoV2 nsp5',\n",
    "'Disease::SARS-CoV2 nsp5_C145A',\n",
    "'Disease::SARS-CoV2 nsp6',\n",
    "'Disease::SARS-CoV2 nsp7',\n",
    "'Disease::SARS-CoV2 nsp8',\n",
    "'Disease::SARS-CoV2 nsp9',\n",
    "'Disease::SARS-CoV2 orf10',\n",
    "'Disease::SARS-CoV2 orf3a',\n",
    "'Disease::SARS-CoV2 orf3b',\n",
    "'Disease::SARS-CoV2 orf6',\n",
    "'Disease::SARS-CoV2 orf7a',\n",
    "'Disease::SARS-CoV2 orf8',\n",
    "'Disease::SARS-CoV2 orf9b',\n",
    "'Disease::SARS-CoV2 orf9c',\n",
    "'Disease::MESH:D045169',\n",
    "'Disease::MESH:D045473',\n",
    "'Disease::MESH:D001351',\n",
    "'Disease::MESH:D065207',\n",
    "'Disease::MESH:D028941',\n",
    "'Disease::MESH:D058957',\n",
    "'Disease::MESH:D006517'\n",
    "]\n",
    "\n",
    "\n",
    "# Load entity file\n",
    "drug_list = []\n",
    "with open(\"./data/DRKG/infer_drug.tsv\", newline='', encoding='utf-8') as csvfile:\n",
    "    reader = csv.DictReader(csvfile, delimiter='\\t', fieldnames=['drug','ids'])\n",
    "    for row_val in reader:\n",
    "        drug_list.append(row_val['drug'])"
   ]
  },
  {
   "cell_type": "markdown",
   "metadata": {},
   "source": [
    "## Map the wanted drug and diseases to their indexes"
   ]
  },
  {
   "cell_type": "code",
   "execution_count": 5,
   "metadata": {},
   "outputs": [
    {
     "name": "stdout",
     "output_type": "stream",
     "text": [
      "# Drugs: 8104 \t # Diseases: 34\n"
     ]
    }
   ],
   "source": [
    "# handle the ID mapping\n",
    "drug_ids = []\n",
    "disease_ids = []\n",
    "for drug in drug_list:\n",
    "    drug_ids.append(node2id[drug])\n",
    "    \n",
    "for disease in COV_disease_list:\n",
    "    disease_ids.append(node2id[disease])\n",
    "\n",
    "print(f\"# Drugs: {len(drug_ids)} \\t # Diseases: {len(disease_ids)}\")"
   ]
  },
  {
   "cell_type": "markdown",
   "metadata": {},
   "source": [
    "## Load the ground-truth clinical trial drugs.\n",
    "\n",
    "\n",
    "These are the drugs that are considered to be important for testing out and we will evaluate against them."
   ]
  },
  {
   "cell_type": "code",
   "execution_count": 6,
   "metadata": {},
   "outputs": [
    {
     "name": "stdout",
     "output_type": "stream",
     "text": [
      "# Ground-Truth Drugs: 32\n"
     ]
    }
   ],
   "source": [
    "clinical_drugs_file = './data/DRKG/COVID19_clinical_trial_drugs.tsv'\n",
    "clinical_drug_map = {}\n",
    "with open(clinical_drugs_file, newline='', encoding='utf-8') as csvfile:\n",
    "    reader = csv.DictReader(csvfile, delimiter='\\t', fieldnames=['id', 'drug_name','drug_id'])\n",
    "    for row_val in reader:\n",
    "        clinical_drug_map[row_val['drug_id']] = row_val['drug_name']\n",
    "        \n",
    "print(f\"# Ground-Truth Drugs: {len(clinical_drug_map)}\")"
   ]
  },
  {
   "cell_type": "markdown",
   "metadata": {},
   "source": [
    "## Find out the latest clicinal trial drugs used, as well.\n",
    "\n",
    "\n",
    "Because the study was performed in September of 2021, there were many other drugs used as well.\n",
    "\n",
    "An updated list can be found in the [DrugBank](https://go.drugbank.com/covid-19#drugs) website.\n",
    "\n",
    "We will scrape it to create an updated-list with more drugs, that have been used in newer clinical trials.\n"
   ]
  },
  {
   "cell_type": "code",
   "execution_count": 13,
   "metadata": {},
   "outputs": [
    {
     "name": "stdout",
     "output_type": "stream",
     "text": [
      "The latest # of Ground-Truth  Drugs is: 708\n"
     ]
    }
   ],
   "source": [
    "from bs4 import BeautifulSoup\n",
    "import requests\n",
    "\n",
    "# Downloading contents of the web page\n",
    "url = \"https://go.drugbank.com/covid-19#drugs\"\n",
    "data = requests.get(url).text\n",
    "\n",
    "\n",
    "# Creating BeautifulSoup object\n",
    "soup = BeautifulSoup(data, 'html.parser')\n",
    "\n",
    "\n",
    "# Find the names of the drugs from the corresponding table\n",
    "table = soup.find_all(\"table\")[4]\n",
    "rows = [[ele.text.strip() for ele in item.find_all(\"td\")[1:2]]\n",
    "        for item in table.find_all(\"tr\")]\n",
    "covid_latest_drugs = set([ll[0] for ll in rows[1:]])\n",
    "\n",
    "print(f\"The latest # of Ground-Truth  Drugs is: {len(set(covid_latest_drugs))}\")\n"
   ]
  },
  {
   "cell_type": "markdown",
   "metadata": {},
   "source": [
    "## Load a mapping of all the compound names from DrugBank\n",
    "\n",
    "\n",
    "Use the vocabulary of DrugBank from [here](https://go.drugbank.com/releases/latest#open-data)."
   ]
  },
  {
   "cell_type": "code",
   "execution_count": 11,
   "metadata": {},
   "outputs": [
    {
     "name": "stdout",
     "output_type": "stream",
     "text": [
      "# of Drugs in DrugBank: 15235\n"
     ]
    }
   ],
   "source": [
    "drugbank_df = pd.read_csv(\"./data/DRKG/drugbank_vocabulary.csv\")\n",
    "dbid2name = dict(zip(drugbank_df['DrugBank ID'], drugbank_df['Common name']))\n",
    "print(f\"# of Drugs in DrugBank: {len(dbid2name)}\")"
   ]
  },
  {
   "cell_type": "markdown",
   "metadata": {},
   "source": [
    "## DRKG-methodology predictions"
   ]
  },
  {
   "cell_type": "code",
   "execution_count": 19,
   "metadata": {},
   "outputs": [
    {
     "name": "stdout",
     "output_type": "stream",
     "text": [
      "Old clinical trials-drug overlap top-100: 6/32\n",
      "\n",
      "New clinical trials-drug overlap top-100: 32/708\n",
      "\n",
      "Ribavirin (1)\n",
      "Dexamethasone (5)\n",
      "Colchicine (9)\n",
      "Methylprednisolone (17)\n",
      "Oseltamivir (50)\n",
      "Deferoxamine (88)\n"
     ]
    }
   ],
   "source": [
    "found_by_DRKG_full = \"\"\"Compound::DB00811\t-0.21416784822940826\n",
    "Compound::DB00993\t-0.8350892663002014\n",
    "Compound::DB00635\t-0.8974801898002625\n",
    "Compound::DB01082\t-0.9854875802993774\n",
    "Compound::DB01234\t-0.9984006881713867\n",
    "Compound::DB00982\t-1.0160722732543945\n",
    "Compound::DB00563\t-1.0189464092254639\n",
    "Compound::DB00290\t-1.064104437828064\n",
    "Compound::DB01394\t-1.080674648284912\n",
    "Compound::DB01222\t-1.084547519683838\n",
    "Compound::DB00415\t-1.0853980779647827\n",
    "Compound::DB01004\t-1.096668004989624\n",
    "Compound::DB00860\t-1.1004775762557983\n",
    "Compound::DB00681\t-1.1011559963226318\n",
    "Compound::DB00688\t-1.125687599182129\n",
    "Compound::DB00624\t-1.1428285837173462\n",
    "Compound::DB00959\t-1.1618402004241943\n",
    "Compound::DB00115\t-1.1868144273757935\n",
    "Compound::DB00091\t-1.1906721591949463\n",
    "Compound::DB01024\t-1.2051165103912354\n",
    "Compound::DB00741\t-1.2147064208984375\n",
    "Compound::DB00441\t-1.2320444583892822\n",
    "Compound::DB00158\t-1.2346539497375488\n",
    "Compound::DB00499\t-1.2525147199630737\n",
    "Compound::DB00929\t-1.2730510234832764\n",
    "Compound::DB00770\t-1.2825534343719482\n",
    "Compound::DB01331\t-1.2960500717163086\n",
    "Compound::DB00958\t-1.2967796325683594\n",
    "Compound::DB02527\t-1.303438663482666\n",
    "Compound::DB00196\t-1.3053392171859741\n",
    "Compound::DB00537\t-1.3131829500198364\n",
    "Compound::DB00644\t-1.3131871223449707\n",
    "Compound::DB01048\t-1.3267226219177246\n",
    "Compound::DB00552\t-1.3272088766098022\n",
    "Compound::DB00328\t-1.3286101818084717\n",
    "Compound::DB00171\t-1.3300385475158691\n",
    "Compound::DB01212\t-1.3330755233764648\n",
    "Compound::DB09093\t-1.3382999897003174\n",
    "Compound::DB00783\t-1.338560938835144\n",
    "Compound::DB09341\t-1.3396968841552734\n",
    "Compound::DB00558\t-1.3425884246826172\n",
    "Compound::DB05382\t-1.3575129508972168\n",
    "Compound::DB01112\t-1.3584508895874023\n",
    "Compound::DB00515\t-1.3608112335205078\n",
    "Compound::DB01101\t-1.381548523902893\n",
    "Compound::DB01165\t-1.3838160037994385\n",
    "Compound::DB01183\t-1.3862146139144897\n",
    "Compound::DB00815\t-1.3863483667373657\n",
    "Compound::DB00755\t-1.3881785869598389\n",
    "Compound::DB00198\t-1.3885014057159424\n",
    "Compound::DB00480\t-1.3935325145721436\n",
    "Compound::DB00806\t-1.3996552228927612\n",
    "Compound::DB01656\t-1.3999741077423096\n",
    "Compound::DB00759\t-1.404650092124939\n",
    "Compound::DB00917\t-1.4116020202636719\n",
    "Compound::DB01181\t-1.4148889780044556\n",
    "Compound::DB01039\t-1.4176580905914307\n",
    "Compound::DB00512\t-1.4207379817962646\n",
    "Compound::DB01233\t-1.4211887121200562\n",
    "Compound::DB11996\t-1.425789475440979\n",
    "Compound::DB00738\t-1.4274098873138428\n",
    "Compound::DB00716\t-1.4327492713928223\n",
    "Compound::DB03461\t-1.437927484512329\n",
    "Compound::DB00591\t-1.4404338598251343\n",
    "Compound::DB01327\t-1.4408743381500244\n",
    "Compound::DB00131\t-1.4446886777877808\n",
    "Compound::DB00693\t-1.4460749626159668\n",
    "Compound::DB00369\t-1.4505752325057983\n",
    "Compound::DB04630\t-1.453115463256836\n",
    "Compound::DB00878\t-1.456466555595398\n",
    "Compound::DB08818\t-1.4633680582046509\n",
    "Compound::DB00682\t-1.4691765308380127\n",
    "Compound::DB01068\t-1.4700121879577637\n",
    "Compound::DB00446\t-1.4720206260681152\n",
    "Compound::DB01115\t-1.4729849100112915\n",
    "Compound::DB00355\t-1.4770021438598633\n",
    "Compound::DB01030\t-1.485068678855896\n",
    "Compound::DB00620\t-1.4973516464233398\n",
    "Compound::DB00396\t-1.4976921081542969\n",
    "Compound::DB01073\t-1.4987037181854248\n",
    "Compound::DB00640\t-1.5026229619979858\n",
    "Compound::DB00999\t-1.5034282207489014\n",
    "Compound::DB01060\t-1.504364252090454\n",
    "Compound::DB00493\t-1.5072362422943115\n",
    "Compound::DB01240\t-1.5090957880020142\n",
    "Compound::DB00364\t-1.509944200515747\n",
    "Compound::DB01263\t-1.511993169784546\n",
    "Compound::DB00746\t-1.513066053390503\n",
    "Compound::DB00718\t-1.5183149576187134\n",
    "Compound::DB01065\t-1.5207160711288452\n",
    "Compound::DB01205\t-1.521277904510498\n",
    "Compound::DB01137\t-1.5229592323303223\n",
    "Compound::DB08894\t-1.5239660739898682\n",
    "Compound::DB00813\t-1.5308701992034912\n",
    "Compound::DB01157\t-1.5316557884216309\n",
    "Compound::DB04570\t-1.5430843830108643\n",
    "Compound::DB00459\t-1.5503207445144653\n",
    "Compound::DB01752\t-1.5541703701019287\n",
    "Compound::DB00775\t-1.5559712648391724\n",
    "Compound::DB01610\t-1.5563474893569946\"\"\"\n",
    "\n",
    "found_by_DRKG = [dbid2name[line.split(\"\\t\")[0].split(\"::\")[1]] for line in found_by_DRKG_full.split(\"\\n\")]\n",
    "\n",
    "print(f\"Old clinical trials-drug overlap top-100: {len(set(found_by_DRKG).intersection(list(clinical_drug_map.values())))}/{len(clinical_drug_map)}\\n\")\n",
    "print(f\"New clinical trials-drug overlap top-100: {len(set(found_by_DRKG).intersection(list(covid_latest_drugs)))}/{len(covid_latest_drugs)}\\n\")\n",
    "\n",
    "for rank, drug in enumerate(found_by_DRKG):\n",
    "    if drug in clinical_drug_map.values():\n",
    "        print(f\"{drug} ({rank+1})\")"
   ]
  },
  {
   "cell_type": "markdown",
   "metadata": {},
   "source": [
    "## Low-rank approximation of the KG"
   ]
  },
  {
   "cell_type": "code",
   "execution_count": 20,
   "metadata": {},
   "outputs": [],
   "source": [
    "# Approximate P using the first 200 eigenvalues of its decomposition\n",
    "k = 200\n",
    "\n",
    "P = power_A_directed[0]\n",
    "U, S, V = svds(P.astype(np.float32), k=k)\n",
    "P_approximate = (U[drug_ids] * S).dot(V[:,disease_ids])"
   ]
  },
  {
   "cell_type": "markdown",
   "metadata": {},
   "source": [
    "## Find the most interacting drug, disease pairs and rank them according to their score"
   ]
  },
  {
   "cell_type": "code",
   "execution_count": 22,
   "metadata": {},
   "outputs": [
    {
     "name": "stdout",
     "output_type": "stream",
     "text": [
      "Old clinical trials overlap top-100: 10/32\n",
      "New clinical trials-drug overlap top-100: 45/708\n",
      "\n",
      "Dexamethasone (1)\n",
      "Methylprednisolone (5)\n",
      "Ribavirin (14)\n",
      "Colchicine (28)\n",
      "Thalidomide (34)\n",
      "Deferoxamine (51)\n",
      "Azithromycin (58)\n",
      "Oseltamivir (60)\n",
      "Chloroquine (70)\n",
      "Hydroxychloroquine (91)\n"
     ]
    }
   ],
   "source": [
    "top_k = 100\n",
    "\n",
    "top_drugs_ids = np.unravel_index(np.argsort(P_approximate.ravel())[::-1], P_approximate.shape)[0]\n",
    "_, idx = np.unique(top_drugs_ids, return_index=True)\n",
    "unique_top_drugs_ids = top_drugs_ids[np.sort(idx)][:top_k]\n",
    "\n",
    "unique_top_drugs = np.array(drug_ids)[unique_top_drugs_ids]\n",
    "unique_top_drugs_names = [dbid2name[id2node[index][10:17]] for index in unique_top_drugs if id2node[index][10:17] in dbid2name]\n",
    "\n",
    "    \n",
    "\n",
    "print(f\"Old clinical trials overlap top-100: {len(set(unique_top_drugs_names).intersection(list(clinical_drug_map.values())))}/{len(clinical_drug_map)}\")\n",
    "print(f\"New clinical trials-drug overlap top-100: {len(set(unique_top_drugs_names).intersection(list(covid_latest_drugs)))}/{len(covid_latest_drugs)}\\n\")\n",
    "\n",
    "\n",
    "for rank, drug in enumerate(unique_top_drugs_names):\n",
    "    if drug in clinical_drug_map.values():\n",
    "        print(f\"{drug} ({rank+1})\")"
   ]
  },
  {
   "cell_type": "markdown",
   "metadata": {},
   "source": [
    "## Check ranks of predictions for the 45/708 drugs that are found in the newest clinical trials drug list"
   ]
  },
  {
   "cell_type": "code",
   "execution_count": 23,
   "metadata": {},
   "outputs": [
    {
     "name": "stdout",
     "output_type": "stream",
     "text": [
      "Dexamethasone (1)\n",
      "Prednisone (2)\n",
      "Prednisolone (3)\n",
      "Hydrocortisone (4)\n",
      "Methylprednisolone (5)\n",
      "Cyclosporine (6)\n",
      "Methotrexate (7)\n",
      "Betamethasone (13)\n",
      "Ribavirin (14)\n",
      "Isotretinoin (16)\n",
      "Fluoxetine (17)\n",
      "Vitamin D (18)\n",
      "Pentoxifylline (22)\n",
      "Simvastatin (23)\n",
      "Morphine (26)\n",
      "Colchicine (28)\n",
      "Alprostadil (29)\n",
      "Sirolimus (31)\n",
      "Thalidomide (34)\n",
      "Tretinoin (35)\n",
      "Clarithromycin (37)\n",
      "Folic acid (38)\n",
      "Cyanocobalamin (39)\n",
      "Itraconazole (40)\n",
      "Ceftriaxone (42)\n",
      "Glutathione (44)\n",
      "Budesonide (46)\n",
      "Indomethacin (48)\n",
      "Deferoxamine (51)\n",
      "Naltrexone (53)\n",
      "Tacrolimus (56)\n",
      "Azithromycin (58)\n",
      "Oseltamivir (60)\n",
      "Midazolam (62)\n",
      "Cholecalciferol (64)\n",
      "Curcumin (69)\n",
      "Chloroquine (70)\n",
      "Minocycline (71)\n",
      "Iodine (73)\n",
      "Amiodarone (77)\n",
      "Melatonin (78)\n",
      "Clindamycin (80)\n",
      "Colistin (87)\n",
      "Hydroxychloroquine (91)\n",
      "Erythromycin (94)\n"
     ]
    }
   ],
   "source": [
    "for rank, drug in enumerate(unique_top_drugs_names):\n",
    "    if drug in covid_latest_drugs:\n",
    "        print(f\"{drug} ({rank+1})\")"
   ]
  },
  {
   "cell_type": "markdown",
   "metadata": {},
   "source": [
    "# Conclusion\n",
    "\n",
    "We show an elegant and fast way of utilizing PAM for link-prediction in the context of drug-repurposing.\n",
    "\n",
    "An intresting idea here would be to use the 2-hop PAM to do the same taks.\n",
    "\n",
    "As we can see from the DRKG connectivity diagram, the 1-hop PAM encapsulates the compound-disease predictions.\n",
    "\n",
    "The 2-hop PAMs would be extended with Compound-Compound-Disease and Compound-Gene-Disease paths as well.\n",
    "\n",
    "So performing the same procedure on the 2-hop matrix would encapsulate more info as well."
   ]
  },
  {
   "cell_type": "markdown",
   "metadata": {},
   "source": [
    "![Image of DRKG](https://github.com/gnn4dr/DRKG/blob/master/connectivity.png?raw=true)"
   ]
  }
 ],
 "metadata": {
  "kernelspec": {
   "display_name": "Python 3.10.5 64-bit ('prime')",
   "language": "python",
   "name": "python3"
  },
  "language_info": {
   "codemirror_mode": {
    "name": "ipython",
    "version": 3
   },
   "file_extension": ".py",
   "mimetype": "text/x-python",
   "name": "python",
   "nbconvert_exporter": "python",
   "pygments_lexer": "ipython3",
   "version": "3.10.5"
  },
  "orig_nbformat": 4,
  "vscode": {
   "interpreter": {
    "hash": "d70b2a2ec171f1dc5a544680ca774ee88efc91713821051b1168c147e7f9ecb2"
   }
  }
 },
 "nbformat": 4,
 "nbformat_minor": 2
}
